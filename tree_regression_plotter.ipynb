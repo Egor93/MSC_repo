{
 "cells": [
  {
   "cell_type": "code",
   "execution_count": 1,
   "metadata": {},
   "outputs": [],
   "source": [
    "from netCDF4 import Dataset\n",
    "import matplotlib.pyplot as plt\n",
    "from netCDF4 import Dataset\n",
    "import numpy as np\n",
    "from sklearn import tree\n",
    "from matplotlib.colors import LogNorm\n",
    "import xarray as xr\n",
    "import time\n",
    "# my own 'library' below\n",
    "from tree_regression import cf_tree_regression as cft\n",
    "from importlib import reload"
   ]
  },
  {
   "cell_type": "code",
   "execution_count": 14,
   "metadata": {},
   "outputs": [],
   "source": [
    "from jupyterthemes import jtplot\n",
    "# currently installed theme will be used to\n",
    "# set plot style if no arguments provided\n",
    "jtplot.style()\n",
    "jtplot.style(theme='chesterish')"
   ]
  },
  {
   "cell_type": "code",
   "execution_count": 2,
   "metadata": {},
   "outputs": [
    {
     "data": {
      "text/plain": [
       "<module 'tree_regression.cf_tree_regression' from '/home/igor/UNI/Master Project/Script/MSC_repo/tree_regression/cf_tree_regression.py'>"
      ]
     },
     "execution_count": 2,
     "metadata": {},
     "output_type": "execute_result"
    }
   ],
   "source": [
    "# make sure that changes in module are applied in j notebook\n",
    "reload(cft)"
   ]
  },
  {
   "cell_type": "code",
   "execution_count": 7,
   "metadata": {},
   "outputs": [],
   "source": [
    " # DEFAULT PARAMETERS - global variables\n",
    "curdir='/home/igor/UNI/Master Project/Script/Data/'\n",
    "fname='ncr_pdf_douze_0125deg.nc'\n",
    "goal_var = 'cl_l'\n",
    "input_vars = ['qsm', 'qtm', 'qlm', 'skew_l', 'var_l', 'var_t', 'tm', 'pm']\n",
    "add_vars = ['qvlm','qsm']\n",
    "eval_fraction=0.6\n",
    "regtype = 'decision_tree'\n",
    "max_depth_in=None"
   ]
  },
  {
   "cell_type": "code",
   "execution_count": 137,
   "metadata": {},
   "outputs": [
    {
     "data": {
      "text/plain": [
       "9.96921e+36"
      ]
     },
     "execution_count": 137,
     "metadata": {},
     "output_type": "execute_result"
    }
   ],
   "source": [
    "missing_value=prepro.ds['skew_l'].missing_value\n",
    "missing_value"
   ]
  },
  {
   "cell_type": "code",
   "execution_count": 220,
   "metadata": {},
   "outputs": [
    {
     "data": {
      "text/plain": [
       "(9.96921e+36, 496.24576)"
      ]
     },
     "execution_count": 220,
     "metadata": {},
     "output_type": "execute_result"
    }
   ],
   "source": [
    "skew=prepro.ds['skew_l']\n",
    "skew_masked=prepro.ds['skew_l'][:]\n",
    "np.max(skew),np.max(skew_masked)"
   ]
  },
  {
   "cell_type": "code",
   "execution_count": 222,
   "metadata": {},
   "outputs": [],
   "source": [
    "skewarr=np.array(skew)"
   ]
  },
  {
   "cell_type": "code",
   "execution_count": 224,
   "metadata": {},
   "outputs": [
    {
     "data": {
      "text/plain": [
       "9.96921e+36"
      ]
     },
     "execution_count": 224,
     "metadata": {},
     "output_type": "execute_result"
    }
   ],
   "source": [
    "skewarr.max()"
   ]
  },
  {
   "cell_type": "code",
   "execution_count": 211,
   "metadata": {},
   "outputs": [
    {
     "data": {
      "text/plain": [
       "496.24576"
      ]
     },
     "execution_count": 211,
     "metadata": {},
     "output_type": "execute_result"
    }
   ],
   "source": [
    "skew.ravel().max()"
   ]
  },
  {
   "cell_type": "code",
   "execution_count": 217,
   "metadata": {},
   "outputs": [
    {
     "data": {
      "text/plain": [
       "masked_array(data=[-0.19727905,  0.53289133, -0.56179589, ...,\n",
       "                   -0.07482954, -0.0489286 , -0.07887524],\n",
       "             mask=False,\n",
       "       fill_value=1e+20)"
      ]
     },
     "execution_count": 217,
     "metadata": {},
     "output_type": "execute_result"
    }
   ],
   "source": [
    "prepro.X_arr[3]"
   ]
  },
  {
   "cell_type": "code",
   "execution_count": 139,
   "metadata": {},
   "outputs": [],
   "source": [
    "missing_mask=prepro.ds['skew_l']==missing_value"
   ]
  },
  {
   "cell_type": "code",
   "execution_count": 194,
   "metadata": {},
   "outputs": [
    {
     "data": {
      "text/plain": [
       "[0.02615196630358696,\n",
       " 0.01474007498472929,\n",
       " 0.001534137292765081,\n",
       " 9.969209968386869e+36,\n",
       " 4.268100383342244e-06,\n",
       " 21.25273895263672,\n",
       " 302.28436279296875,\n",
       " 102355.6484375,\n",
       " 0.00153969950042665]"
      ]
     },
     "execution_count": 194,
     "metadata": {},
     "output_type": "execute_result"
    }
   ],
   "source": [
    "[ prepro.X_arr[i].max() for i in range(len(prepro.X_arr))]"
   ]
  },
  {
   "cell_type": "code",
   "execution_count": 184,
   "metadata": {},
   "outputs": [],
   "source": [
    "skew=prepro.ds['skew_l'][:]"
   ]
  },
  {
   "cell_type": "code",
   "execution_count": 185,
   "metadata": {},
   "outputs": [
    {
     "data": {
      "text/plain": [
       "496.24576"
      ]
     },
     "execution_count": 185,
     "metadata": {},
     "output_type": "execute_result"
    }
   ],
   "source": [
    "np.max(skew)"
   ]
  },
  {
   "cell_type": "code",
   "execution_count": 178,
   "metadata": {},
   "outputs": [
    {
     "data": {
      "text/plain": [
       "0"
      ]
     },
     "execution_count": 178,
     "metadata": {},
     "output_type": "execute_result"
    }
   ],
   "source": [
    "# [:] converts netCDF4._netCDF4.Variable to masked array\n",
    "# negative side-effect is that it does so implicitly, without telling us\n",
    "masked=prepro.ds['skew_l'][:]==missing_value\n",
    "np.count_nonzero(masked)"
   ]
  },
  {
   "cell_type": "code",
   "execution_count": 131,
   "metadata": {},
   "outputs": [
    {
     "ename": "AttributeError",
     "evalue": "NetCDF: Attribute not found",
     "output_type": "error",
     "traceback": [
      "\u001b[0;31m---------------------------------------------------------------------------\u001b[0m",
      "\u001b[0;31mAttributeError\u001b[0m                            Traceback (most recent call last)",
      "\u001b[0;32m<ipython-input-131-84ae56401331>\u001b[0m in \u001b[0;36m<module>\u001b[0;34m\u001b[0m\n\u001b[0;32m----> 1\u001b[0;31m \u001b[0mprepro\u001b[0m\u001b[0;34m.\u001b[0m\u001b[0mds\u001b[0m\u001b[0;34m[\u001b[0m\u001b[0;34m'skew_l'\u001b[0m\u001b[0;34m]\u001b[0m\u001b[0;34m.\u001b[0m\u001b[0mvalues\u001b[0m\u001b[0;34m\u001b[0m\u001b[0;34m\u001b[0m\u001b[0m\n\u001b[0m",
      "\u001b[0;32mnetCDF4/_netCDF4.pyx\u001b[0m in \u001b[0;36mnetCDF4._netCDF4.Variable.__getattr__\u001b[0;34m()\u001b[0m\n",
      "\u001b[0;32mnetCDF4/_netCDF4.pyx\u001b[0m in \u001b[0;36mnetCDF4._netCDF4.Variable.getncattr\u001b[0;34m()\u001b[0m\n",
      "\u001b[0;32mnetCDF4/_netCDF4.pyx\u001b[0m in \u001b[0;36mnetCDF4._netCDF4._get_att\u001b[0;34m()\u001b[0m\n",
      "\u001b[0;32mnetCDF4/_netCDF4.pyx\u001b[0m in \u001b[0;36mnetCDF4._netCDF4._ensure_nc_success\u001b[0;34m()\u001b[0m\n",
      "\u001b[0;31mAttributeError\u001b[0m: NetCDF: Attribute not found"
     ]
    }
   ],
   "source": [
    "prepro.ds['skew_l']."
   ]
  },
  {
   "cell_type": "code",
   "execution_count": 123,
   "metadata": {},
   "outputs": [],
   "source": [
    "np.ma.masked_array?"
   ]
  },
  {
   "cell_type": "code",
   "execution_count": 121,
   "metadata": {},
   "outputs": [],
   "source": [
    "skew_l_masked=np.ma.masked_array(skew,missing_mask)"
   ]
  },
  {
   "cell_type": "code",
   "execution_count": 27,
   "metadata": {},
   "outputs": [
    {
     "data": {
      "text/plain": [
       "'h. level 126'"
      ]
     },
     "execution_count": 27,
     "metadata": {},
     "output_type": "execute_result"
    }
   ],
   "source": [
    "'h. level {}'.format(height_level)"
   ]
  },
  {
   "cell_type": "code",
   "execution_count": 48,
   "metadata": {},
   "outputs": [
    {
     "data": {
      "image/png": "[encoded data removed]",
      "text/plain": [
       "<Figure size 720x360 with 1 Axes>"
      ]
     },
     "metadata": {},
     "output_type": "display_data"
    }
   ],
   "source": [
    "fig,ax=plt.subplots(figsize=(10,5))\n",
    "for height_level in range(39,40):\n",
    "    ax.plot(missing_mask[:,0,height_level],label='level {}'.format(height_level))\n",
    "    \n",
    "ax.legend()\n",
    "ax.set_yticks([0,1])\n",
    "ax.set_yticklabels(['not missing','Missing'])\n",
    "ax.set_title('Missing values at different height levels in _0125deg.nc ')\n",
    "ax.set_xlabel('Cell number')\n",
    "plt.show()"
   ]
  },
  {
   "cell_type": "code",
   "execution_count": null,
   "metadata": {},
   "outputs": [],
   "source": [
    "#  suppress invalid values, using masked array"
   ]
  },
  {
   "cell_type": "code",
   "execution_count": 83,
   "metadata": {},
   "outputs": [],
   "source": [
    "np.ma?"
   ]
  },
  {
   "cell_type": "code",
   "execution_count": 105,
   "metadata": {},
   "outputs": [],
   "source": [
    "import matplotlib.pyplot as plt\n",
    "plt.style.use('dark_background')"
   ]
  },
  {
   "cell_type": "code",
   "execution_count": 49,
   "metadata": {},
   "outputs": [
    {
     "data": {
      "image/png": "[encoded data removed]",
      "text/plain": [
       "<Figure size 720x360 with 1 Axes>"
      ]
     },
     "metadata": {},
     "output_type": "display_data"
    }
   ],
   "source": [
    "height_levels=missing_mask.shape[2]\n",
    "total_vals=missing_mask.shape[0]\n",
    "missing_heights=[]\n",
    "for i in range(height_levels):\n",
    "    is_missing=np.count_nonzero(missing_mask[:,0,i])\n",
    "    percent_missing=is_missing/total_vals\n",
    "    missing_heights.append(percent_missing*100)\n",
    "\n",
    "fig=plt.figure(figsize=(10,5))\n",
    "plt.plot(missing_heights,'o')\n",
    "plt.ylabel('missing values,%',fontsize=14)\n",
    "plt.xlabel('height level',fontsize=14)\n",
    "plt.title('Percentage of missing values at height levels in _0125deg.nc ',fontsize=16)\n",
    "plt.show()"
   ]
  },
  {
   "cell_type": "markdown",
   "metadata": {},
   "source": [
    "- mask the first 40 levels of skew_l variable. Its the top-most part of the atmosphere, so can be disregarded. "
   ]
  },
  {
   "cell_type": "code",
   "execution_count": null,
   "metadata": {},
   "outputs": [],
   "source": []
  },
  {
   "cell_type": "code",
   "execution_count": 46,
   "metadata": {},
   "outputs": [],
   "source": [
    "prepro.proc_goalvar4??"
   ]
  },
  {
   "cell_type": "code",
   "execution_count": 41,
   "metadata": {},
   "outputs": [],
   "source": [
    "prepro.read_netcdf4??"
   ]
  },
  {
   "cell_type": "code",
   "execution_count": 48,
   "metadata": {},
   "outputs": [],
   "source": [
    "prepro.proc_inputvars4??"
   ]
  },
  {
   "cell_type": "code",
   "execution_count": 44,
   "metadata": {},
   "outputs": [
    {
     "data": {
      "text/plain": [
       "(15360, 1, 150)"
      ]
     },
     "execution_count": 44,
     "metadata": {},
     "output_type": "execute_result"
    }
   ],
   "source": [
    "filepath=curdir+fname\n",
    "ds=prepro.ds\n",
    "ds['cl_l'][:]"
   ]
  },
  {
   "cell_type": "code",
   "execution_count": 6,
   "metadata": {},
   "outputs": [
    {
     "data": {
      "text/plain": [
       "(9, 2304000)"
      ]
     },
     "execution_count": 6,
     "metadata": {},
     "output_type": "execute_result"
    }
   ],
   "source": [
    "prepro.X_arr.shape"
   ]
  },
  {
   "cell_type": "code",
   "execution_count": 136,
   "metadata": {},
   "outputs": [],
   "source": [
    "# DATA PREPROCESSING\n",
    "prepro=cft.DataPrepro(curdir,fname,goal_var,input_vars,add_vars,eval_fraction)\n",
    "# methods should be in this particular order!!\n",
    "# prepro.read_netcdf()\n",
    "prepro.read_netcdf4()\n",
    "# prepro.proc_goalvar()\n",
    "prepro.proc_goalvar4()\n",
    "# prepro.proc_inputvars()\n",
    "prepro.proc_inputvars4()\n",
    "# prepro.proc_addvars()\n",
    "prepro.proc_addvars4()\n",
    "prepro.split_data()\n",
    "processed_data = prepro.get_processed_data()"
   ]
  },
  {
   "cell_type": "code",
   "execution_count": 23,
   "metadata": {},
   "outputs": [],
   "source": [
    "# REGRESSION\n",
    "goal_var_pred, goalvar_eval = cft.regression(regtype,processed_data,max_depth_in)"
   ]
  },
  {
   "cell_type": "code",
   "execution_count": 24,
   "metadata": {},
   "outputs": [
    {
     "data": {
      "text/plain": [
       "dict_keys(['time', 'zm', 'qcm', 'qim', 'qvm', 'qtm', 'qlm', 'qvlm', 'qsm', 'qsi', 'tm', 'pm', 'cl', 'cl_l', 'qvu', 'tu', 'qt_min', 'qt_max', 't_min', 't_max', 'skew', 'var_l', 'skew_l', 'var', 'var_t', 'betaq_msl', 'betap_msl', 'betaa_msl', 'betab_msl', 'betaq_p00', 'betap_p00', 'betaa_p00', 'betab_p00', 'betaq_p06', 'betap_p06', 'betaa_p06', 'betab_p06', 'betaa_zsl', 'betab_zsl', 'betap_zsl', 'betaq_zsl', 'betaa_1sl', 'betab_1sl', 'betap_1sl', 'betaq_1sl', 'sat_zm', 'sat_z1', 'cl_msl', 'cl_p00', 'cl_p06', 'cl_zsl', 'cl_rel', 'cl_1sl', 'betaa_3sl', 'betab_3sl', 'betap_3sl', 'betaq_3sl', 'sat_z3', 'cl_3sl', 'betaa_p03', 'betab_p03', 'betap_p03', 'betaq_p03', 'cl_p03'])"
      ]
     },
     "execution_count": 24,
     "metadata": {},
     "output_type": "execute_result"
    }
   ],
   "source": [
    "prepro.ds.keys()"
   ]
  },
  {
   "cell_type": "code",
   "execution_count": 25,
   "metadata": {},
   "outputs": [
    {
     "data": {
      "text/plain": [
       "[<matplotlib.lines.Line2D at 0x7fd707a4f350>]"
      ]
     },
     "execution_count": 25,
     "metadata": {},
     "output_type": "execute_result"
    },
    {
     "data": {
      "image/png": "[encoded data removed]",
      "text/plain": [
       "<Figure size 432x288 with 1 Axes>"
      ]
     },
     "metadata": {
      "needs_background": "light"
     },
     "output_type": "display_data"
    }
   ],
   "source": [
    "plt.plot(prepro.ds['cl_l'][15000][0])"
   ]
  },
  {
   "cell_type": "code",
   "execution_count": 37,
   "metadata": {},
   "outputs": [
    {
     "data": {
      "text/plain": [
       "(1382400,)"
      ]
     },
     "execution_count": 37,
     "metadata": {},
     "output_type": "execute_result"
    }
   ],
   "source": [
    "goalvar_eval."
   ]
  },
  {
   "cell_type": "code",
   "execution_count": 35,
   "metadata": {},
   "outputs": [
    {
     "data": {
      "image/png": "[encoded data removed]",
      "text/plain": [
       "<Figure size 720x720 with 2 Axes>"
      ]
     },
     "metadata": {
      "needs_background": "light"
     },
     "output_type": "display_data"
    }
   ],
   "source": [
    "# VISUALISATION\n",
    "cft.hist_plot(goal_var_pred, goalvar_eval)"
   ]
  }
 ],
 "metadata": {
  "kernelspec": {
   "display_name": "MSC_env",
   "language": "python",
   "name": "msc_env"
  },
  "language_info": {
   "codemirror_mode": {
    "name": "ipython",
    "version": 3
   },
   "file_extension": ".py",
   "mimetype": "text/x-python",
   "name": "python",
   "nbconvert_exporter": "python",
   "pygments_lexer": "ipython3",
   "version": "3.7.8"
  }
 },
 "nbformat": 4,
 "nbformat_minor": 4
}
