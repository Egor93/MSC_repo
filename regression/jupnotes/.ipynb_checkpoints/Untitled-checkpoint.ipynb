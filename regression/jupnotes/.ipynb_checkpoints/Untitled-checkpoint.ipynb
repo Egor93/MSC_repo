{
 "cells": [
  {
   "cell_type": "code",
   "execution_count": 219,
   "id": "ddac9f8d",
   "metadata": {},
   "outputs": [],
   "source": [
    "import pandas as pd\n",
    "import numpy as np\n",
    "import os\n",
    "import matplotlib.pyplot as plt"
   ]
  },
  {
   "cell_type": "code",
   "execution_count": 12,
   "id": "4290f696",
   "metadata": {},
   "outputs": [],
   "source": [
    "sys.path.append(\"/home/egor/UNI/Code/MSC_repo/regression/src\")"
   ]
  },
  {
   "cell_type": "code",
   "execution_count": 4,
   "id": "1f493ba3",
   "metadata": {},
   "outputs": [],
   "source": [
    "from netCDF4 import Dataset"
   ]
  },
  {
   "cell_type": "code",
   "execution_count": 13,
   "id": "d7fd1ed0",
   "metadata": {},
   "outputs": [
    {
     "name": "stdout",
     "output_type": "stream",
     "text": [
      "external     logger_file.txt\tNetCDFregression      Taylor_plot.py\r\n",
      "__init__.py  ML_performance.py\tsetup_experiments.py\r\n"
     ]
    }
   ],
   "source": [
    "!ls ../src"
   ]
  },
  {
   "cell_type": "code",
   "execution_count": 5,
   "id": "f3f3d4fc",
   "metadata": {},
   "outputs": [
    {
     "name": "stdout",
     "output_type": "stream",
     "text": [
      "expset_R01.csv\t expset_R031.csv  expset_R21.csv    expset_R31.csv\r\n",
      "expset_R021.csv  expset_R03.csv   expset_R23.csv    expset_R321.csv\r\n",
      "expset_R023.csv  expset_R0.csv\t  expset_R2.csv     expset_R3.csv\r\n",
      "expset_R02.csv\t expset_R1.csv\t  expset_R3021.csv\r\n"
     ]
    }
   ],
   "source": [
    "!ls ../data/output/csv/repeat/"
   ]
  },
  {
   "cell_type": "code",
   "execution_count": 8,
   "id": "63098c42",
   "metadata": {},
   "outputs": [
    {
     "name": "stdout",
     "output_type": "stream",
     "text": [
      "\tinput_vars_id\tinput_vars\tsatdeficit\teval_fraction\tregtypes\ttree_maxdepth\tsubdomain_sizes\trefstd\tsamplestd\tsamplecorr\texectime\tRMSE\tfeature_importances\r\n",
      "0\tR3021\t['qtm,qsm,pm,tm,var_t,qlm,var_l,skew_l']\tFalse\t0.2\tdecision_tree\t10\t1\t0.110058434\t0.10907123616523794\t0.9651801081528807\t0:00:00.242699\t0.028930005\t{'qtm': 0.01832378, 'qsm': 0.007434349, 'pm': 0.010988993, 'tm': 0.0059765163, 'var_t': 0.012753352, 'qlm': 0.89829046, 'var_l': 0.0057914536, 'skew_l': 0.040441107}\r\n"
     ]
    }
   ],
   "source": [
    "!head ../data/output/csv/repeat/expset_R3021.csv -n 2"
   ]
  },
  {
   "cell_type": "code",
   "execution_count": 17,
   "id": "cb08df12",
   "metadata": {},
   "outputs": [],
   "source": [
    "input_dir = \"../data/output/csv/repeat/\""
   ]
  },
  {
   "cell_type": "code",
   "execution_count": 19,
   "id": "d769c1e2",
   "metadata": {},
   "outputs": [
    {
     "data": {
      "text/plain": [
       "['expset_R021.csv',\n",
       " 'expset_R31.csv',\n",
       " 'expset_R01.csv',\n",
       " 'expset_R21.csv',\n",
       " 'expset_R1.csv',\n",
       " 'expset_R0.csv',\n",
       " 'expset_R321.csv',\n",
       " 'expset_R03.csv',\n",
       " 'expset_R02.csv',\n",
       " 'expset_R23.csv',\n",
       " 'expset_R023.csv',\n",
       " 'expset_R031.csv',\n",
       " 'expset_R2.csv',\n",
       " 'expset_R3.csv',\n",
       " 'expset_R3021.csv']"
      ]
     },
     "execution_count": 19,
     "metadata": {},
     "output_type": "execute_result"
    }
   ],
   "source": [
    "result_files = [file for file in os.listdir(input_dir) if \"csv\"  in file]\n",
    "result_files"
   ]
  },
  {
   "cell_type": "code",
   "execution_count": 23,
   "id": "e261c38a",
   "metadata": {},
   "outputs": [],
   "source": [
    " dtypedict= {'input_vars_id':str,'input_vars':str, 'satdeficit':np.bool_,'eval_fraction':np.float64,\n",
    "                     'regtypes':str,'tree_maxdepth':np.int_,'subdomain_sizes':str,'refstd':np.float64,\n",
    "                     'samplestd':np.float64,'samplecorr':np.float64,'exectime':str,'RMSE':np.float64,'decision_tree':str}"
   ]
  },
  {
   "cell_type": "code",
   "execution_count": 197,
   "id": "8af3a40b",
   "metadata": {},
   "outputs": [],
   "source": [
    "df_list = []\n",
    "for resfile in result_files:\n",
    "            fpath = os.path.join(input_dir,resfile)\n",
    "            df = pd.read_csv(fpath,sep='\\t',index_col=0,dtype=dtypedict)\n",
    "\n",
    "            # take care of permutations of ID's\n",
    "            first_id = df.iloc[0]['input_vars_id']\n",
    "            df = df.assign(input_vars_id = first_id)\n",
    "\n",
    "            df_list.append(df)\n",
    "df_merged = pd.concat(df_list)"
   ]
  },
  {
   "cell_type": "code",
   "execution_count": 205,
   "id": "72f7d148",
   "metadata": {},
   "outputs": [],
   "source": [
    "# SELECT ONLY UNIQUE ROWS, since the output is deterministic\n",
    "df_merged=df_merged.drop_duplicates(subset = [\"input_vars_id\",\"subdomain_sizes\",\"regtypes\"])"
   ]
  },
  {
   "cell_type": "code",
   "execution_count": 206,
   "id": "52b05e17",
   "metadata": {},
   "outputs": [
    {
     "name": "stderr",
     "output_type": "stream",
     "text": [
      "/tmp/ipykernel_27201/2483866270.py:1: SettingWithCopyWarning: \n",
      "A value is trying to be set on a copy of a slice from a DataFrame.\n",
      "Try using .loc[row_indexer,col_indexer] = value instead\n",
      "\n",
      "See the caveats in the documentation: https://pandas.pydata.org/pandas-docs/stable/user_guide/indexing.html#returning-a-view-versus-a-copy\n",
      "  df_merged['new_index']=(list(range(len(df_merged))))\n"
     ]
    }
   ],
   "source": [
    "df_merged['new_index']=(list(range(len(df_merged))))"
   ]
  },
  {
   "cell_type": "code",
   "execution_count": 207,
   "id": "ef1c9dac",
   "metadata": {},
   "outputs": [],
   "source": [
    "df_merged=df_merged.set_index('new_index')"
   ]
  },
  {
   "cell_type": "code",
   "execution_count": 208,
   "id": "42c0e2b4",
   "metadata": {},
   "outputs": [
    {
     "data": {
      "text/plain": [
       "new_index\n",
       "0      {'qtm': 0.019787394, 'qsm': 0.012013749, 'pm':...\n",
       "1      {'qtm': 0.043637972, 'qsm': 0.018650934, 'pm':...\n",
       "2      {'qtm': 0.07664467, 'qsm': 0.04239556, 'pm': 0...\n",
       "3      {'qtm': 0.21321167, 'qsm': 0.12869853, 'pm': 0...\n",
       "4      {'qtm': 0.13672297, 'qsm': 0.097446986, 'pm': ...\n",
       "                             ...                        \n",
       "145    {'qtm': 0.0031333843, 'qsm': 0.0, 'pm': 0.0, '...\n",
       "146    {'qtm': 0.011776561, 'qsm': 0.00035310324, 'pm...\n",
       "147    {'qtm': 0.036781203, 'qsm': 0.018214425, 'pm':...\n",
       "148    {'qtm': 0.12960961, 'qsm': 0.07066711, 'pm': 0...\n",
       "149    {'qtm': 0.081432834, 'qsm': 0.0, 'pm': 0.16906...\n",
       "Name: feature_importances, Length: 150, dtype: object"
      ]
     },
     "execution_count": 208,
     "metadata": {},
     "output_type": "execute_result"
    }
   ],
   "source": [
    "df_merged.feature_importances"
   ]
  },
  {
   "cell_type": "code",
   "execution_count": 209,
   "id": "8b354677",
   "metadata": {},
   "outputs": [],
   "source": [
    "from ast import literal_eval"
   ]
  },
  {
   "cell_type": "code",
   "execution_count": 210,
   "id": "393b88e3",
   "metadata": {},
   "outputs": [],
   "source": [
    "df_merged['feature_importances']=df_merged.feature_importances.apply(literal_eval)"
   ]
  },
  {
   "cell_type": "code",
   "execution_count": 211,
   "id": "1538f527",
   "metadata": {},
   "outputs": [],
   "source": [
    "df_merged['qtm']=df_merged.feature_importances.apply(lambda x:x['qtm'])"
   ]
  },
  {
   "cell_type": "code",
   "execution_count": 213,
   "id": "20a931ae",
   "metadata": {},
   "outputs": [
    {
     "name": "stderr",
     "output_type": "stream",
     "text": [
      "/tmp/ipykernel_27201/1528145012.py:6: SettingWithCopyWarning: \n",
      "A value is trying to be set on a copy of a slice from a DataFrame.\n",
      "Try using .loc[row_indexer,col_indexer] = value instead\n",
      "\n",
      "See the caveats in the documentation: https://pandas.pydata.org/pandas-docs/stable/user_guide/indexing.html#returning-a-view-versus-a-copy\n",
      "  pandict[f'{Rid}'][key]=pandict[f'{Rid}'].feature_importances.apply(lambda x:x[key])\n"
     ]
    }
   ],
   "source": [
    "pandict = dict()\n",
    "for Rid in Rids:\n",
    "    pandict[f'{Rid}'] = df_merged.loc[(df_merged['input_vars_id']==Rid)]\n",
    "    curr_fimp_keys = list(pandict[f'{Rid}'].iloc[0]['feature_importances'].keys())\n",
    "    for key in curr_fimp_keys:\n",
    "        pandict[f'{Rid}'][key]=pandict[f'{Rid}'].feature_importances.apply(lambda x:x[key])"
   ]
  },
  {
   "cell_type": "code",
   "execution_count": 217,
   "id": "00d44b02",
   "metadata": {},
   "outputs": [
    {
     "data": {
      "text/html": [
       "<div>\n",
       "<style scoped>\n",
       "    .dataframe tbody tr th:only-of-type {\n",
       "        vertical-align: middle;\n",
       "    }\n",
       "\n",
       "    .dataframe tbody tr th {\n",
       "        vertical-align: top;\n",
       "    }\n",
       "\n",
       "    .dataframe thead th {\n",
       "        text-align: right;\n",
       "    }\n",
       "</style>\n",
       "<table border=\"1\" class=\"dataframe\">\n",
       "  <thead>\n",
       "    <tr style=\"text-align: right;\">\n",
       "      <th></th>\n",
       "      <th>input_vars_id</th>\n",
       "      <th>input_vars</th>\n",
       "      <th>satdeficit</th>\n",
       "      <th>eval_fraction</th>\n",
       "      <th>regtypes</th>\n",
       "      <th>tree_maxdepth</th>\n",
       "      <th>subdomain_sizes</th>\n",
       "      <th>refstd</th>\n",
       "      <th>samplestd</th>\n",
       "      <th>samplecorr</th>\n",
       "      <th>...</th>\n",
       "      <th>RMSE</th>\n",
       "      <th>feature_importances</th>\n",
       "      <th>qtm</th>\n",
       "      <th>qsm</th>\n",
       "      <th>pm</th>\n",
       "      <th>tm</th>\n",
       "      <th>var_t</th>\n",
       "      <th>qlm</th>\n",
       "      <th>var_l</th>\n",
       "      <th>skew_l</th>\n",
       "    </tr>\n",
       "    <tr>\n",
       "      <th>new_index</th>\n",
       "      <th></th>\n",
       "      <th></th>\n",
       "      <th></th>\n",
       "      <th></th>\n",
       "      <th></th>\n",
       "      <th></th>\n",
       "      <th></th>\n",
       "      <th></th>\n",
       "      <th></th>\n",
       "      <th></th>\n",
       "      <th></th>\n",
       "      <th></th>\n",
       "      <th></th>\n",
       "      <th></th>\n",
       "      <th></th>\n",
       "      <th></th>\n",
       "      <th></th>\n",
       "      <th></th>\n",
       "      <th></th>\n",
       "      <th></th>\n",
       "      <th></th>\n",
       "    </tr>\n",
       "  </thead>\n",
       "  <tbody>\n",
       "    <tr>\n",
       "      <th>140</th>\n",
       "      <td>R3021</td>\n",
       "      <td>['qtm,qsm,pm,tm,var_t,qlm,var_l,skew_l']</td>\n",
       "      <td>False</td>\n",
       "      <td>0.2</td>\n",
       "      <td>decision_tree</td>\n",
       "      <td>10</td>\n",
       "      <td>1</td>\n",
       "      <td>0.110058</td>\n",
       "      <td>0.109071</td>\n",
       "      <td>0.965180</td>\n",
       "      <td>...</td>\n",
       "      <td>0.028930</td>\n",
       "      <td>{'qtm': 0.01832378, 'qsm': 0.007434349, 'pm': ...</td>\n",
       "      <td>0.018324</td>\n",
       "      <td>0.007434</td>\n",
       "      <td>0.010989</td>\n",
       "      <td>0.005977</td>\n",
       "      <td>0.012753</td>\n",
       "      <td>0.898290</td>\n",
       "      <td>0.005791</td>\n",
       "      <td>0.040441</td>\n",
       "    </tr>\n",
       "    <tr>\n",
       "      <th>141</th>\n",
       "      <td>R3021</td>\n",
       "      <td>['qtm,qsm,pm,tm,var_t,qlm,var_l,skew_l']</td>\n",
       "      <td>False</td>\n",
       "      <td>0.2</td>\n",
       "      <td>decision_tree</td>\n",
       "      <td>10</td>\n",
       "      <td>05</td>\n",
       "      <td>0.117578</td>\n",
       "      <td>0.115516</td>\n",
       "      <td>0.962059</td>\n",
       "      <td>...</td>\n",
       "      <td>0.032170</td>\n",
       "      <td>{'qtm': 0.04336585, 'qsm': 0.014558924, 'pm': ...</td>\n",
       "      <td>0.043366</td>\n",
       "      <td>0.014559</td>\n",
       "      <td>0.010506</td>\n",
       "      <td>0.004933</td>\n",
       "      <td>0.014829</td>\n",
       "      <td>0.862465</td>\n",
       "      <td>0.003877</td>\n",
       "      <td>0.045465</td>\n",
       "    </tr>\n",
       "    <tr>\n",
       "      <th>142</th>\n",
       "      <td>R3021</td>\n",
       "      <td>['qtm,qsm,pm,tm,var_t,qlm,var_l,skew_l']</td>\n",
       "      <td>False</td>\n",
       "      <td>0.2</td>\n",
       "      <td>decision_tree</td>\n",
       "      <td>10</td>\n",
       "      <td>025</td>\n",
       "      <td>0.129000</td>\n",
       "      <td>0.122556</td>\n",
       "      <td>0.948282</td>\n",
       "      <td>...</td>\n",
       "      <td>0.040949</td>\n",
       "      <td>{'qtm': 0.071845904, 'qsm': 0.03863381, 'pm': ...</td>\n",
       "      <td>0.071846</td>\n",
       "      <td>0.038634</td>\n",
       "      <td>0.005719</td>\n",
       "      <td>0.004452</td>\n",
       "      <td>0.023987</td>\n",
       "      <td>0.807676</td>\n",
       "      <td>0.001530</td>\n",
       "      <td>0.046156</td>\n",
       "    </tr>\n",
       "    <tr>\n",
       "      <th>143</th>\n",
       "      <td>R3021</td>\n",
       "      <td>['qtm,qsm,pm,tm,var_t,qlm,var_l,skew_l']</td>\n",
       "      <td>False</td>\n",
       "      <td>0.2</td>\n",
       "      <td>decision_tree</td>\n",
       "      <td>10</td>\n",
       "      <td>0125</td>\n",
       "      <td>0.138392</td>\n",
       "      <td>0.123264</td>\n",
       "      <td>0.886813</td>\n",
       "      <td>...</td>\n",
       "      <td>0.063957</td>\n",
       "      <td>{'qtm': 0.20999354, 'qsm': 0.1242421, 'pm': 0....</td>\n",
       "      <td>0.209994</td>\n",
       "      <td>0.124242</td>\n",
       "      <td>0.006239</td>\n",
       "      <td>0.003212</td>\n",
       "      <td>0.022912</td>\n",
       "      <td>0.612101</td>\n",
       "      <td>0.000859</td>\n",
       "      <td>0.020441</td>\n",
       "    </tr>\n",
       "    <tr>\n",
       "      <th>144</th>\n",
       "      <td>R3021</td>\n",
       "      <td>['qtm,qsm,pm,tm,var_t,qlm,var_l,skew_l']</td>\n",
       "      <td>False</td>\n",
       "      <td>0.2</td>\n",
       "      <td>decision_tree</td>\n",
       "      <td>10</td>\n",
       "      <td>00625</td>\n",
       "      <td>0.146990</td>\n",
       "      <td>0.110760</td>\n",
       "      <td>0.752911</td>\n",
       "      <td>...</td>\n",
       "      <td>0.096738</td>\n",
       "      <td>{'qtm': 0.13314754, 'qsm': 0.09051315, 'pm': 0...</td>\n",
       "      <td>0.133148</td>\n",
       "      <td>0.090513</td>\n",
       "      <td>0.133489</td>\n",
       "      <td>0.063282</td>\n",
       "      <td>0.021142</td>\n",
       "      <td>0.550666</td>\n",
       "      <td>0.000695</td>\n",
       "      <td>0.007066</td>\n",
       "    </tr>\n",
       "  </tbody>\n",
       "</table>\n",
       "<p>5 rows × 21 columns</p>\n",
       "</div>"
      ],
      "text/plain": [
       "          input_vars_id                                input_vars  satdeficit  \\\n",
       "new_index                                                                       \n",
       "140               R3021  ['qtm,qsm,pm,tm,var_t,qlm,var_l,skew_l']       False   \n",
       "141               R3021  ['qtm,qsm,pm,tm,var_t,qlm,var_l,skew_l']       False   \n",
       "142               R3021  ['qtm,qsm,pm,tm,var_t,qlm,var_l,skew_l']       False   \n",
       "143               R3021  ['qtm,qsm,pm,tm,var_t,qlm,var_l,skew_l']       False   \n",
       "144               R3021  ['qtm,qsm,pm,tm,var_t,qlm,var_l,skew_l']       False   \n",
       "\n",
       "           eval_fraction       regtypes  tree_maxdepth subdomain_sizes  \\\n",
       "new_index                                                                \n",
       "140                  0.2  decision_tree             10               1   \n",
       "141                  0.2  decision_tree             10              05   \n",
       "142                  0.2  decision_tree             10             025   \n",
       "143                  0.2  decision_tree             10            0125   \n",
       "144                  0.2  decision_tree             10           00625   \n",
       "\n",
       "             refstd  samplestd  samplecorr  ...      RMSE  \\\n",
       "new_index                                   ...             \n",
       "140        0.110058   0.109071    0.965180  ...  0.028930   \n",
       "141        0.117578   0.115516    0.962059  ...  0.032170   \n",
       "142        0.129000   0.122556    0.948282  ...  0.040949   \n",
       "143        0.138392   0.123264    0.886813  ...  0.063957   \n",
       "144        0.146990   0.110760    0.752911  ...  0.096738   \n",
       "\n",
       "                                         feature_importances       qtm  \\\n",
       "new_index                                                                \n",
       "140        {'qtm': 0.01832378, 'qsm': 0.007434349, 'pm': ...  0.018324   \n",
       "141        {'qtm': 0.04336585, 'qsm': 0.014558924, 'pm': ...  0.043366   \n",
       "142        {'qtm': 0.071845904, 'qsm': 0.03863381, 'pm': ...  0.071846   \n",
       "143        {'qtm': 0.20999354, 'qsm': 0.1242421, 'pm': 0....  0.209994   \n",
       "144        {'qtm': 0.13314754, 'qsm': 0.09051315, 'pm': 0...  0.133148   \n",
       "\n",
       "                qsm        pm        tm     var_t       qlm     var_l  \\\n",
       "new_index                                                               \n",
       "140        0.007434  0.010989  0.005977  0.012753  0.898290  0.005791   \n",
       "141        0.014559  0.010506  0.004933  0.014829  0.862465  0.003877   \n",
       "142        0.038634  0.005719  0.004452  0.023987  0.807676  0.001530   \n",
       "143        0.124242  0.006239  0.003212  0.022912  0.612101  0.000859   \n",
       "144        0.090513  0.133489  0.063282  0.021142  0.550666  0.000695   \n",
       "\n",
       "             skew_l  \n",
       "new_index            \n",
       "140        0.040441  \n",
       "141        0.045465  \n",
       "142        0.046156  \n",
       "143        0.020441  \n",
       "144        0.007066  \n",
       "\n",
       "[5 rows x 21 columns]"
      ]
     },
     "execution_count": 217,
     "metadata": {},
     "output_type": "execute_result"
    }
   ],
   "source": [
    "#pandict['R3021'].loc[(df_merged['subdomain_sizes']=='1') & (df_merged['regtypes']=='decision_tree')]\n",
    "df=pandict['R3021'].loc[(df_merged['regtypes']=='decision_tree')]\n",
    "df"
   ]
  },
  {
   "cell_type": "code",
   "execution_count": 248,
   "id": "47e8ecce",
   "metadata": {},
   "outputs": [
    {
     "data": {
      "text/plain": [
       "dict_keys(['R31', 'R1', 'R321', 'R023', 'R031', 'R3', 'R02', 'R3021', 'R021', 'R01', 'R21', 'R0', 'R23', 'R2', 'R03'])"
      ]
     },
     "execution_count": 248,
     "metadata": {},
     "output_type": "execute_result"
    }
   ],
   "source": [
    "pandict.keys()"
   ]
  },
  {
   "cell_type": "markdown",
   "id": "2011fd2b",
   "metadata": {},
   "source": [
    "## Root input variables, R = \"qtm,qsm,pm,tm\"\n",
    "## Additional variables var0 = qlm , var1 = skew_l, var2 = var_l, var3 = var_t"
   ]
  },
  {
   "cell_type": "code",
   "execution_count": 251,
   "id": "28e0792a",
   "metadata": {},
   "outputs": [
    {
     "data": {
      "text/plain": [
       "<matplotlib.legend.Legend at 0x7feccbe978e0>"
      ]
     },
     "execution_count": 251,
     "metadata": {},
     "output_type": "execute_result"
    },
    {
     "data": {
      "image/png": "[encoded data removed]",
      "text/plain": [
       "<Figure size 576x360 with 1 Axes>"
      ]
     },
     "metadata": {
      "needs_background": "light"
     },
     "output_type": "display_data"
    }
   ],
   "source": [
    "Rid = 'R3021'\n",
    "regtype = 'decision_tree'\n",
    "xvar = 'subdomain_sizes'\n",
    "df=pandict[f'{Rid}'].loc[(df_merged['regtypes']==f'{regtype}')]\n",
    "input_vars = df.iloc[0][\"input_vars\"].strip(\"[]''\").split(\",\")\n",
    "###\n",
    "plt.figure(figsize= (8,5))\n",
    "plt.title(f'Feature importance vs {xvar}, when regtype={regtype},\\n input_vars ={Rid} {input_vars}')\n",
    "for ivar in input_vars:\n",
    "    plt.plot(df[xvar],df[f'{ivar}'],'-o',label=f'{ivar}')\n",
    "\n",
    "plt.xlabel(f'{xvar}',fontsize = 14)\n",
    "plt.ylabel('feature importance',fontsize = 14)\n",
    "plt.legend()"
   ]
  },
  {
   "cell_type": "code",
   "execution_count": 250,
   "id": "4859e30c",
   "metadata": {},
   "outputs": [
    {
     "data": {
      "text/plain": [
       "<matplotlib.legend.Legend at 0x7feccc2017f0>"
      ]
     },
     "execution_count": 250,
     "metadata": {},
     "output_type": "execute_result"
    },
    {
     "data": {
      "image/png": "[encoded data removed]",
      "text/plain": [
       "<Figure size 576x360 with 1 Axes>"
      ]
     },
     "metadata": {
      "needs_background": "light"
     },
     "output_type": "display_data"
    }
   ],
   "source": [
    "Rid = 'R321'\n",
    "regtype = 'decision_tree'\n",
    "xvar = 'subdomain_sizes'\n",
    "df=pandict[f'{Rid}'].loc[(df_merged['regtypes']==f'{regtype}')]\n",
    "input_vars = df.iloc[0][\"input_vars\"].strip(\"[]''\").split(\",\")\n",
    "###\n",
    "plt.figure(figsize= (8,5))\n",
    "plt.title(f'Feature importance vs {xvar}, when regtype={regtype},\\n input_vars ={Rid} {input_vars}')\n",
    "for ivar in input_vars:\n",
    "    plt.plot(df[xvar],df[f'{ivar}'],'-o',label=f'{ivar}')\n",
    "\n",
    "plt.xlabel(f'{xvar}',fontsize = 14)\n",
    "plt.ylabel('feature importance',fontsize = 14)\n",
    "plt.legend()"
   ]
  },
  {
   "cell_type": "code",
   "execution_count": 252,
   "id": "60ee0c78",
   "metadata": {},
   "outputs": [
    {
     "data": {
      "text/plain": [
       "<matplotlib.legend.Legend at 0x7fecc3562040>"
      ]
     },
     "execution_count": 252,
     "metadata": {},
     "output_type": "execute_result"
    },
    {
     "data": {
      "image/png": "[encoded data removed]",
      "text/plain": [
       "<Figure size 576x360 with 1 Axes>"
      ]
     },
     "metadata": {
      "needs_background": "light"
     },
     "output_type": "display_data"
    }
   ],
   "source": [
    "Rid = 'R31'\n",
    "regtype = 'decision_tree'\n",
    "xvar = 'subdomain_sizes'\n",
    "df=pandict[f'{Rid}'].loc[(df_merged['regtypes']==f'{regtype}')]\n",
    "input_vars = df.iloc[0][\"input_vars\"].strip(\"[]''\").split(\",\")\n",
    "###\n",
    "plt.figure(figsize= (8,5))\n",
    "plt.title(f'Feature importance vs {xvar}, when regtype={regtype},\\n input_vars ={Rid} {input_vars}')\n",
    "for ivar in input_vars:\n",
    "    plt.plot(df[xvar],df[f'{ivar}'],'-o',label=f'{ivar}')\n",
    "\n",
    "plt.xlabel(f'{xvar}',fontsize = 14)\n",
    "plt.ylabel('feature importance',fontsize = 14)\n",
    "plt.legend()"
   ]
  },
  {
   "cell_type": "code",
   "execution_count": null,
   "id": "2d73d54e",
   "metadata": {},
   "outputs": [],
   "source": []
  }
 ],
 "metadata": {
  "kernelspec": {
   "display_name": "MSC",
   "language": "python",
   "name": "msc"
  },
  "language_info": {
   "codemirror_mode": {
    "name": "ipython",
    "version": 3
   },
   "file_extension": ".py",
   "mimetype": "text/x-python",
   "name": "python",
   "nbconvert_exporter": "python",
   "pygments_lexer": "ipython3",
   "version": "3.9.7"
  }
 },
 "nbformat": 4,
 "nbformat_minor": 5
}
